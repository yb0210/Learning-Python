{
 "cells": [
  {
   "cell_type": "code",
   "execution_count": 1,
   "metadata": {},
   "outputs": [],
   "source": [
    "%config IPCompleter.greedy = True"
   ]
  },
  {
   "cell_type": "markdown",
   "metadata": {},
   "source": [
    "## Write a File"
   ]
  },
  {
   "cell_type": "code",
   "execution_count": 9,
   "metadata": {},
   "outputs": [],
   "source": [
    "# a={ 1 :'Monday', 2 :'Tuesday', 3 :'Wednesday', 4 :'Thursday', 5 :'Friday', 6 :'Saturday', 7 : 'Sunday' }\n",
    "f = open('Week.txt', 'w+')\n",
    "line = 7\n",
    "i=1\n",
    "while (i<=7):\n",
    "    f.write(a[i])\n",
    "    f.write('\\n')\n",
    "    i += 1\n",
    "\n",
    "f.close()"
   ]
  },
  {
   "cell_type": "markdown",
   "metadata": {},
   "source": [
    "## Read Pre Defined Text File"
   ]
  },
  {
   "cell_type": "code",
   "execution_count": 10,
   "metadata": {},
   "outputs": [
    {
     "name": "stdout",
     "output_type": "stream",
     "text": [
      "1 Monday\n",
      "2 Tuesday\n",
      "3 Wednesday\n",
      "4 Thursday\n",
      "5 Friday\n",
      "6 Saturday\n",
      "7 Sunday\n"
     ]
    }
   ],
   "source": [
    "f = open('Week Dictionary.txt', 'r')\n",
    "if f.mode == 'r':\n",
    "    data = f.read()\n",
    "    print(data)"
   ]
  },
  {
   "cell_type": "markdown",
   "metadata": {},
   "source": [
    "## Saves The Value of Txt File To the Dictionary"
   ]
  },
  {
   "cell_type": "code",
   "execution_count": 11,
   "metadata": {},
   "outputs": [
    {
     "name": "stdout",
     "output_type": "stream",
     "text": [
      "{'1': 'Monday\\n', '2': 'Tuesday\\n', '3': 'Wednesday\\n', '4': 'Thursday\\n', '5': 'Friday\\n', '6': 'Saturday\\n', '7': 'Sunday'}\n"
     ]
    }
   ],
   "source": [
    "f = open('Week Dictionary.txt', 'r')\n",
    "days = []\n",
    "dic = {}\n",
    "\n",
    "for line in f:\n",
    "    days = line.split(' ')\n",
    "    dic.update({days[0]:days[1]})\n",
    "\n",
    "print(dic)\n",
    "        "
   ]
  },
  {
   "cell_type": "markdown",
   "metadata": {},
   "source": [
    "## Data Extraction"
   ]
  },
  {
   "cell_type": "code",
   "execution_count": null,
   "metadata": {},
   "outputs": [],
   "source": []
  }
 ],
 "metadata": {
  "kernelspec": {
   "display_name": "Python 3",
   "language": "python",
   "name": "python3"
  },
  "language_info": {
   "codemirror_mode": {
    "name": "ipython",
    "version": 3
   },
   "file_extension": ".py",
   "mimetype": "text/x-python",
   "name": "python",
   "nbconvert_exporter": "python",
   "pygments_lexer": "ipython3",
   "version": "3.6.5"
  }
 },
 "nbformat": 4,
 "nbformat_minor": 2
}
