{
 "cells": [
  {
   "cell_type": "code",
   "execution_count": 16,
   "metadata": {},
   "outputs": [],
   "source": [
    "%config IPCompleter.greedy = True"
   ]
  },
  {
   "cell_type": "markdown",
   "metadata": {},
   "source": [
    "## Adding Two Numbers"
   ]
  },
  {
   "cell_type": "code",
   "execution_count": 1,
   "metadata": {},
   "outputs": [
    {
     "name": "stdout",
     "output_type": "stream",
     "text": [
      "3\n"
     ]
    }
   ],
   "source": [
    "a = 1\n",
    "b = 2\n",
    "print(a + b)"
   ]
  },
  {
   "cell_type": "markdown",
   "metadata": {},
   "source": [
    "## Hello World!"
   ]
  },
  {
   "cell_type": "code",
   "execution_count": 9,
   "metadata": {},
   "outputs": [
    {
     "name": "stdout",
     "output_type": "stream",
     "text": [
      "Hello World!!\n",
      "Hello World!\n",
      "hello \n",
      " world\n"
     ]
    }
   ],
   "source": [
    "print('Hello World!!')\n",
    "a='Hello World!'\n",
    "print(a)\n",
    "b='hello'\n",
    "c='world'\n",
    "print(b,c)"
   ]
  },
  {
   "cell_type": "markdown",
   "metadata": {},
   "source": [
    "## Input function and Square"
   ]
  },
  {
   "cell_type": "code",
   "execution_count": 34,
   "metadata": {},
   "outputs": [
    {
     "name": "stdout",
     "output_type": "stream",
     "text": [
      "Enter Any Number: 15\n",
      "Your number is:  15\n",
      "its square is:  225\n"
     ]
    }
   ],
   "source": [
    "a=int(input('Enter Any Number: '))\n",
    "print('Your number is: ', a)\n",
    "print('its square is: ', a**2)"
   ]
  },
  {
   "cell_type": "markdown",
   "metadata": {},
   "source": [
    "## Prime number or Not"
   ]
  },
  {
   "cell_type": "code",
   "execution_count": 2,
   "metadata": {},
   "outputs": [
    {
     "name": "stdout",
     "output_type": "stream",
     "text": [
      "Enter any number:5\n",
      "5 number is a prime number\n"
     ]
    }
   ],
   "source": [
    "a = int(input('Enter any number:'))\n",
    "if a > 1:\n",
    "    for x in range(2,a):\n",
    "        if (a % x) == 0:\n",
    "            print(a,' number is not prime')\n",
    "            print(x,'times',a//x, 'is', a)\n",
    "            break\n",
    "    else:\n",
    "        print(a, 'number is a prime number')\n",
    "        \n",
    "else:\n",
    "    print(a, 'number is a prime number')"
   ]
  },
  {
   "cell_type": "markdown",
   "metadata": {},
   "source": [
    "## Fibonacci Series with If else and while"
   ]
  },
  {
   "cell_type": "code",
   "execution_count": 31,
   "metadata": {},
   "outputs": [
    {
     "name": "stdout",
     "output_type": "stream",
     "text": [
      "Enter the limit of Fibonacci Series 10\n",
      "Fibonacci Sequence upto 10 is:\n",
      "0 , 1 , 1 , 2 , 3 , 5 , 8 , 13 , 21 , 34 , "
     ]
    }
   ],
   "source": [
    "a = int(input('Enter the limit of Fibonacci Series '))\n",
    "n1,n2 = 0,1\n",
    "count = 0\n",
    "if a <= 0:\n",
    "    print('Please Enter the Positive Number')\n",
    "elif a == 1:\n",
    "    print('fibonacci series upto', a, 'is:')\n",
    "    print(n1)\n",
    "else:\n",
    "    print('Fibonacci Sequence upto', a, 'is:')\n",
    "    while count < a:\n",
    "        print(n1, end = ' , ')\n",
    "        l = n1 + n2\n",
    "        n1 = n2\n",
    "        n2 = l\n",
    "        count += 1\n",
    "        "
   ]
  },
  {
   "cell_type": "markdown",
   "metadata": {},
   "source": [
    "# Fibonacci Series with For Loop\n"
   ]
  },
  {
   "cell_type": "code",
   "execution_count": 4,
   "metadata": {},
   "outputs": [
    {
     "name": "stdout",
     "output_type": "stream",
     "text": [
      "Enter the limit of Fibonacci Series 10\n",
      "0  , \n",
      "1  , \n",
      "2  , \n",
      "4  , \n",
      "8  , \n",
      "16  , \n",
      "32  , \n",
      "64  , \n",
      "128  , \n",
      "256  , \n"
     ]
    }
   ],
   "source": [
    "# Problem\n",
    "a = int(input('Enter the limit of Fibonacci Series '))\n",
    "n1,n2 = 0,1\n",
    "temp = 0\n",
    "for x in range(0, a):\n",
    "    print(n1, ' , ')\n",
    "    n2 = n1 + n2\n",
    "    n1 = n2\n",
    "    temp = n2\n",
    "    "
   ]
  },
  {
   "cell_type": "markdown",
   "metadata": {},
   "source": [
    "## Armstrong Number"
   ]
  },
  {
   "cell_type": "code",
   "execution_count": 13,
   "metadata": {},
   "outputs": [
    {
     "name": "stdout",
     "output_type": "stream",
     "text": [
      "Enter a number: 1634\n",
      "1634 is not an Armstrong number\n"
     ]
    }
   ],
   "source": [
    "num = int(input(\"Enter a number: \"))\n",
    "temp = num\n",
    "s=0\n",
    "while temp > 0:\n",
    "    digit = temp % 10\n",
    "    s += digit ** 3\n",
    "    temp //= 10\n",
    "if num == s:\n",
    "   print(num,\"is an Armstrong number\")\n",
    "else:\n",
    "   print(num,\"is not an Armstrong number\")"
   ]
  },
  {
   "cell_type": "markdown",
   "metadata": {},
   "source": [
    "## Square Root"
   ]
  },
  {
   "cell_type": "code",
   "execution_count": 4,
   "metadata": {},
   "outputs": [
    {
     "name": "stdout",
     "output_type": "stream",
     "text": [
      "Please Enter an Integer:95\n",
      "The Square Root of  95  is:  9.746794344808963\n"
     ]
    }
   ],
   "source": [
    "num = int(input('Please Enter an Integer:'))\n",
    "\n",
    "if(type(num) == int):\n",
    "    ans = num ** 0.5\n",
    "    \n",
    "    #problem in else conditionl\n",
    "else:\n",
    "    print('The Number is not an integer')\n",
    "    \n",
    "print('The Square Root of ', num, ' is: ', ans)"
   ]
  }
 ],
 "metadata": {
  "kernelspec": {
   "display_name": "Python 3",
   "language": "python",
   "name": "python3"
  },
  "language_info": {
   "codemirror_mode": {
    "name": "ipython",
    "version": 3
   },
   "file_extension": ".py",
   "mimetype": "text/x-python",
   "name": "python",
   "nbconvert_exporter": "python",
   "pygments_lexer": "ipython3",
   "version": "3.6.5"
  }
 },
 "nbformat": 4,
 "nbformat_minor": 2
}
